{
 "cells": [
  {
   "cell_type": "markdown",
   "metadata": {},
   "source": [
    "# Productivity Hacks"
   ]
  },
  {
   "cell_type": "markdown",
   "metadata": {},
   "source": [
    ">In this section I'll introduce ways to get more effective by doing the same thing in less time, smarter way or in parallel. This will change the way you act and hopefully realize that you can do more thing that you though.\n",
    "\n",
    ">I hope you like it!\n",
    "\n",
    ">Sincerely Enrique"
   ]
  },
  {
   "cell_type": "markdown",
   "metadata": {},
   "source": [
    "### Tools"
   ]
  },
  {
   "cell_type": "markdown",
   "metadata": {},
   "source": [
    "Before starting with the tools that will make you life easier let me explain what are the golden rules for the use of any tool.\n",
    "\n",
    "1. Master the tools that right now you are using.\n",
    "    1. This means that all the time of your learning curve was worth it. So don't try to get just the necessary tools and avoid jumping too frequent from one tool to another.\n",
    "2. Keep an eye on better tools.\n",
    "    1. This point may appear that is against the preveous one but it isn't at all. Let me explain more about this point. So if you change all the time from one tool to another you will not have the proper time to know the good and bad things about any tool and you opinion about the tool will be poor. \n",
    "        1. So I recommend you to have a tool that will keep an eye for you in all the Apps, Books and everything for FREE!!!. \n",
    "        \n",
    "        <a href=\"https://ifttt.com/view_embed_recipe/434107-get-apps-books-and-everything-free\" target = \"_blank\" class=\"embed_recipe embed_recipe-l_36\" id= \"embed_recipe-434107\"><img src= 'https://ifttt.com/recipe_embed_img/434107' alt=\"IFTTT Recipe: Get Apps, Books and Everything FREE! connects appzapp to email-digest\" width=\"370px\" style=\"max-width:100%\"/></a><script async type=\"text/javascript\" src= \"//ifttt.com/assets/embed_recipe.js\"></script>\n",
    "\n",
    "\n",
    "Now we can start with the tools that I recommend you for a better performance.\n",
    "\n",
    "1. [Deskconnect](https://deskconnect.com/ 'For FREE!!!') (FREE)\n",
    "    * Apple oriented\n",
    "    * This tool is oriented to mac, ipads and iphones. If I find any other better solution I'll post it ASAP (As soon as possible).\n",
    "\n",
    "    * Review: This software will help you to transfer anyfile to any Mac, iPhone, iPad or iPod touch that you have registered in your account. \n",
    "\n",
    "2. [Duet](http://www.duetdisplay.com/) (PAID but it worth it)(until June 23th, 2016 it was in $16 US dollars)\n",
    "\n",
    "    * Windows & Apple Oriented\n",
    "    * Requirements:\n",
    "        * 1 Ipad\n",
    "\n",
    "It is worth it if you have an ipad and you want a second display. It works like a second display and it took < 1 minute to configure itself. "
   ]
  }
 ],
 "metadata": {
  "kernelspec": {
   "display_name": "Python 3",
   "language": "python",
   "name": "python3"
  },
  "language_info": {
   "codemirror_mode": {
    "name": "ipython",
    "version": 3
   },
   "file_extension": ".py",
   "mimetype": "text/x-python",
   "name": "python",
   "nbconvert_exporter": "python",
   "pygments_lexer": "ipython3",
   "version": "3.5.1"
  }
 },
 "nbformat": 4,
 "nbformat_minor": 0
}
